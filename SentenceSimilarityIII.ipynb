{
 "cells": [
  {
   "cell_type": "code",
   "execution_count": 34,
   "metadata": {},
   "outputs": [],
   "source": [
    "def areSentencesSimilar(sentence1, sentence2):\n",
    "\n",
    "    w1 = sentence1.split()\n",
    "    w2 = sentence2.split()\n",
    "    i,j = 0,0\n",
    "    while i < len(w1) and i < len(w2) and w1[i] == w2[i]:\n",
    "            i += 1\n",
    "    while j < len(w1) - i and j < len(w2) - i and w1[-1 - j] == w2[-1 - j]:\n",
    "            j += 1\n",
    "    return i + j == min(len(w1), len(w2))"
   ]
  },
  {
   "cell_type": "code",
   "execution_count": 35,
   "metadata": {},
   "outputs": [],
   "source": [
    "sentence1 = \"My Name is Haley\"\n",
    "sentence2 = \"My Haley\""
   ]
  },
  {
   "cell_type": "code",
   "execution_count": 36,
   "metadata": {},
   "outputs": [
    {
     "data": {
      "text/plain": [
       "True"
      ]
     },
     "execution_count": 36,
     "metadata": {},
     "output_type": "execute_result"
    }
   ],
   "source": [
    "areSentencesSimilar(sentence1, sentence2)"
   ]
  },
  {
   "cell_type": "code",
   "execution_count": null,
   "metadata": {},
   "outputs": [],
   "source": []
  }
 ],
 "metadata": {
  "kernelspec": {
   "display_name": "Python 3",
   "language": "python",
   "name": "python3"
  },
  "language_info": {
   "codemirror_mode": {
    "name": "ipython",
    "version": 3
   },
   "file_extension": ".py",
   "mimetype": "text/x-python",
   "name": "python",
   "nbconvert_exporter": "python",
   "pygments_lexer": "ipython3",
   "version": "3.11.9"
  }
 },
 "nbformat": 4,
 "nbformat_minor": 2
}
