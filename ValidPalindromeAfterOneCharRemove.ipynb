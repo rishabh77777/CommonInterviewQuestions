{
 "cells": [
  {
   "cell_type": "code",
   "execution_count": 1,
   "metadata": {},
   "outputs": [
    {
     "data": {
      "text/plain": [
       "\"\\nQuestion: Given a string, can you determine if it can become a palindrome by removing exactly one character?\\nInput - 'abca'\\noutput - True\\n\\nInput - 'abcdef'\\noutput - False\\n\""
      ]
     },
     "execution_count": 1,
     "metadata": {},
     "output_type": "execute_result"
    }
   ],
   "source": [
    "'''\n",
    "Question: Given a string, can you determine if it can become a palindrome by removing exactly one character?\n",
    "Input - 'abca'\n",
    "output - True\n",
    "\n",
    "Input - 'abcdef'\n",
    "output - False\n",
    "'''"
   ]
  },
  {
   "cell_type": "code",
   "execution_count": 15,
   "metadata": {},
   "outputs": [],
   "source": [
    "def validPalindrome(s):\n",
    "\n",
    "    def isPalindrome(s, left, right): #Helper Function\n",
    "        while left <= right:\n",
    "            if s[left] == s[right]:\n",
    "                left += 1\n",
    "                right -= 1\n",
    "            else:\n",
    "                return False\n",
    "        return True\n",
    "    \n",
    "    left, right = 0, len(s) - 1\n",
    "\n",
    "    while left <= right:\n",
    "        if s[left] == s[right]:\n",
    "            left += 1\n",
    "            right -= 1\n",
    "        else:\n",
    "            return isPalindrome(s, left + 1, right) or isPalindrome(s, left, right - 1)\n",
    "    return True\n",
    "\n",
    "        "
   ]
  },
  {
   "cell_type": "code",
   "execution_count": 21,
   "metadata": {},
   "outputs": [
    {
     "data": {
      "text/plain": [
       "True"
      ]
     },
     "execution_count": 21,
     "metadata": {},
     "output_type": "execute_result"
    }
   ],
   "source": [
    "validPalindrome('abca')"
   ]
  }
 ],
 "metadata": {
  "kernelspec": {
   "display_name": "Python 3",
   "language": "python",
   "name": "python3"
  },
  "language_info": {
   "codemirror_mode": {
    "name": "ipython",
    "version": 3
   },
   "file_extension": ".py",
   "mimetype": "text/x-python",
   "name": "python",
   "nbconvert_exporter": "python",
   "pygments_lexer": "ipython3",
   "version": "3.11.9"
  }
 },
 "nbformat": 4,
 "nbformat_minor": 2
}
